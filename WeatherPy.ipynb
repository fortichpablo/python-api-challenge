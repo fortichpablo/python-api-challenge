WeatherPy
Note
Instructions have been included for each segment. You do not have to follow them exactly, but they are included to help you think through the steps.
# Dependencies and Setup
import matplotlib.pyplot as plt
import pandas as pd
import numpy as np
import requests
import time
from scipy.stats import linregress

# Import API key
from api_keys import weather_api_key

# Incorporated citipy to determine city based on latitude and longitude
from citipy import citipy

# Output File (CSV)
output_data_file = "output_data/cities.csv"

# Range of latitudes and longitudes
lat_range = (-90, 90)
lng_range = (-180, 180)
pip install citipy
Requirement already satisfied: citipy in /Users/veronicalmorales/opt/anaconda3/lib/python3.7/site-packages (0.0.5)
Requirement already satisfied: kdtree>=0.12 in /Users/veronicalmorales/opt/anaconda3/lib/python3.7/site-packages (from citipy) (0.16)
Note: you may need to restart the kernel to use updated packages.
Generate Cities List
# List for holding lat_lngs and cities
lat_lngs = []
cities = []

# Create a set of random lat and lng combinations
lats = np.random.uniform(low=-90.000, high=90.000, size=1500)
lngs = np.random.uniform(low=-180.000, high=180.000, size=1500)
lat_lngs = zip(lats, lngs)

# Identify nearest city for each lat, lng combination
for lat_lng in lat_lngs:
    city = citipy.nearest_city(lat_lng[0], lat_lng[1]).city_name
    
    # If the city is unique, then add it to a our cities list
    if city not in cities:
        cities.append(city)

#Print the city count to confirm sufficient count
len(cities)
590
Perform API Calls
Perform a weather check on each city using a series of successive API calls.
Include a print log of each city as it'sbeing processed (with the city number and city name).
# Starting URL for Weather Map API call
url = f"http://api.openweathermap.org/data/2.5/weather?units=Imperial&APPID={weather_api_key}"
# Print (url)


# List of City Data
city_data = []

# Print to logger
print("Beginning Data Retrieval")
print ("-" * 15)


# Create counters
record_count = 1
set_count = 1
# Loop through all the cities in list
for index, city in enumerate(cities):
    # Group cities in sets of 50 for loggin purpose
    if (index % 50 == 0 and index >= 50):
        set_count += 1
        record_count = 0
    # Create endpoint URL with each city
    city_url = url + "&q=" + city

    
    # Log the URL and set number
    print(f"Processing Record {record_count} of Set {set_count} | {city}")
    
    record_count += 1
    
    # Run an API request for each of the cities
    try:
        
        # Parse the JSON and retrieve data
        city_weather = requests.get(city_url).json()
        
        
        # Extract out max temp humidity and cloudiness
        city_lat = city_weather["coord"]["lat"]
        city_lng = city_weather["coord"]["lon"]
        city_max_temp = city_weather["main"]["temp_max"]
        city_humidity = city_weather["main"]["humidity"]
        city_clouds = city_weather["clouds"]["all"]
        city_wind = city_weather["wind"]["speed"]
        city_country = city_weather["sys"]["country"]
        city_date = city_weather["dt"]
        
        # Append the city info into the city data list
        city_data.append({
            "City" :city,
            "Lat" :city_lat,
            "Lng" :city_lng,
            "Max Temp" :city_max_temp,
            "Humidity" :city_humidity,
            "Cloudiness" :city_clouds,
            "Windspeed" :city_wind,
            "Country" :city_country,
            "Date" :city_date  
        })
    except:
        print("City not found. Skipping ...")
        pass
    # Indicate that data loading is complete
        print("-----------------------")
        print("Data Retrieval Complete")
        print("-----------------------")
        
        
        
        
Beginning Data Retrieval
---------------
Processing Record 1 of Set 1 | tasiilaq
Processing Record 2 of Set 1 | bryan
Processing Record 3 of Set 1 | ushuaia
Processing Record 4 of Set 1 | noumea
Processing Record 5 of Set 1 | jamestown
Processing Record 6 of Set 1 | minab
Processing Record 7 of Set 1 | thunder bay
Processing Record 8 of Set 1 | portpatrick
City not found. Skipping ...
-----------------------
Data Retrieval Complete
-----------------------
Processing Record 9 of Set 1 | matamoros
Processing Record 10 of Set 1 | cameron park
Processing Record 11 of Set 1 | la ronge
Processing Record 12 of Set 1 | barrow
Processing Record 13 of Set 1 | hobart
Processing Record 14 of Set 1 | hovd
Processing Record 15 of Set 1 | mataura
Processing Record 16 of Set 1 | ginda
Processing Record 17 of Set 1 | vaitupu
City not found. Skipping ...
-----------------------
Data Retrieval Complete
-----------------------
Processing Record 18 of Set 1 | aleksandrov gay
Processing Record 19 of Set 1 | ossora
Processing Record 20 of Set 1 | yellowknife
Processing Record 21 of Set 1 | olafsvik
Processing Record 22 of Set 1 | puri
Processing Record 23 of Set 1 | hartselle
Processing Record 24 of Set 1 | lorengau
Processing Record 25 of Set 1 | tual
Processing Record 26 of Set 1 | mago
Processing Record 27 of Set 1 | cape town
Processing Record 28 of Set 1 | nome
Processing Record 29 of Set 1 | sao filipe
Processing Record 30 of Set 1 | chuy
Processing Record 31 of Set 1 | saskylakh
Processing Record 32 of Set 1 | puerto ayora
Processing Record 33 of Set 1 | viedma
Processing Record 34 of Set 1 | leningradskiy
Processing Record 35 of Set 1 | port elizabeth
Processing Record 36 of Set 1 | port alfred
Processing Record 37 of Set 1 | barentsburg
City not found. Skipping ...
-----------------------
Data Retrieval Complete
-----------------------
Processing Record 38 of Set 1 | esperance
Processing Record 39 of Set 1 | punta arenas
Processing Record 40 of Set 1 | temaraia
City not found. Skipping ...
-----------------------
Data Retrieval Complete
-----------------------
Processing Record 41 of Set 1 | tuktoyaktuk
Processing Record 42 of Set 1 | rikitea
Processing Record 43 of Set 1 | sibolga
Processing Record 44 of Set 1 | hithadhoo
Processing Record 45 of Set 1 | hofn
Processing Record 46 of Set 1 | khatanga
Processing Record 47 of Set 1 | aklavik
Processing Record 48 of Set 1 | plettenberg bay
Processing Record 49 of Set 1 | rexburg
Processing Record 50 of Set 1 | isangel
Processing Record 0 of Set 2 | tuatapere
Processing Record 1 of Set 2 | kavieng
Processing Record 2 of Set 2 | hermanus
Processing Record 3 of Set 2 | suntar
Processing Record 4 of Set 2 | san miguel
Processing Record 5 of Set 2 | mar del plata
Processing Record 6 of Set 2 | eirunepe
Processing Record 7 of Set 2 | umzimvubu
City not found. Skipping ...
-----------------------
Data Retrieval Complete
-----------------------
Processing Record 8 of Set 2 | kaitangata
Processing Record 9 of Set 2 | arraial do cabo
Processing Record 10 of Set 2 | verkhoyansk
Processing Record 11 of Set 2 | nouadhibou
Processing Record 12 of Set 2 | kapaa
Processing Record 13 of Set 2 | yamada
Processing Record 14 of Set 2 | dikson
Processing Record 15 of Set 2 | praya
Processing Record 16 of Set 2 | copiapo
Processing Record 17 of Set 2 | padang
Processing Record 18 of Set 2 | bambous virieux
Processing Record 19 of Set 2 | bredasdorp
Processing Record 20 of Set 2 | clyde river
Processing Record 21 of Set 2 | atuona
Processing Record 22 of Set 2 | lavrentiya
Processing Record 23 of Set 2 | vaini
Processing Record 24 of Set 2 | bethel
Processing Record 25 of Set 2 | broome
Processing Record 26 of Set 2 | tungor
Processing Record 27 of Set 2 | odweyne
Processing Record 28 of Set 2 | provideniya
Processing Record 29 of Set 2 | east london
Processing Record 30 of Set 2 | kodiak
Processing Record 31 of Set 2 | bluff
Processing Record 32 of Set 2 | saint-philippe
Processing Record 33 of Set 2 | bengkulu
Processing Record 34 of Set 2 | shubarkuduk
Processing Record 35 of Set 2 | tera
Processing Record 36 of Set 2 | mayna
Processing Record 37 of Set 2 | alta floresta
Processing Record 38 of Set 2 | goderich
Processing Record 39 of Set 2 | maceio
Processing Record 40 of Set 2 | lardos
Processing Record 41 of Set 2 | talnakh
Processing Record 42 of Set 2 | ancud
Processing Record 43 of Set 2 | andros town
Processing Record 44 of Set 2 | khash
Processing Record 45 of Set 2 | cabo san lucas
Processing Record 46 of Set 2 | thompson
Processing Record 47 of Set 2 | rio gallegos
Processing Record 48 of Set 2 | cidreira
Processing Record 49 of Set 2 | los llanos de aridane
Processing Record 0 of Set 3 | todi
Processing Record 1 of Set 3 | castro
Processing Record 2 of Set 3 | zeya
Processing Record 3 of Set 3 | lebu
Processing Record 4 of Set 3 | huarmey
Processing Record 5 of Set 3 | sao joao da barra
Processing Record 6 of Set 3 | bayan
Processing Record 7 of Set 3 | upernavik
Processing Record 8 of Set 3 | nurota
Processing Record 9 of Set 3 | tiksi
Processing Record 10 of Set 3 | warqla
City not found. Skipping ...
-----------------------
Data Retrieval Complete
-----------------------
Processing Record 11 of Set 3 | saint anthony
Processing Record 12 of Set 3 | chokurdakh
Processing Record 13 of Set 3 | atar
Processing Record 14 of Set 3 | fort frances
Processing Record 15 of Set 3 | balaguer
Processing Record 16 of Set 3 | pevek
Processing Record 17 of Set 3 | albany
Processing Record 18 of Set 3 | samusu
City not found. Skipping ...
-----------------------
Data Retrieval Complete
-----------------------
Processing Record 19 of Set 3 | haverfordwest
Processing Record 20 of Set 3 | ketchikan
Processing Record 21 of Set 3 | muzhi
Processing Record 22 of Set 3 | camacha
Processing Record 23 of Set 3 | lata
Processing Record 24 of Set 3 | illoqqortoormiut
City not found. Skipping ...
-----------------------
Data Retrieval Complete
-----------------------
Processing Record 25 of Set 3 | nikolskoye
Processing Record 26 of Set 3 | avarua
Processing Record 27 of Set 3 | taolanaro
City not found. Skipping ...
-----------------------
Data Retrieval Complete
-----------------------
Processing Record 28 of Set 3 | meiringen
Processing Record 29 of Set 3 | ust-maya
Processing Record 30 of Set 3 | aykhal
Processing Record 31 of Set 3 | valparaiso
Processing Record 32 of Set 3 | saleaula
City not found. Skipping ...
-----------------------
Data Retrieval Complete
-----------------------
Processing Record 33 of Set 3 | sitka
Processing Record 34 of Set 3 | hobyo
Processing Record 35 of Set 3 | lazaro cardenas
Processing Record 36 of Set 3 | lhokseumawe
Processing Record 37 of Set 3 | carnarvon
Processing Record 38 of Set 3 | yumen
Processing Record 39 of Set 3 | ribeira grande
Processing Record 40 of Set 3 | dhidhdhoo
Processing Record 41 of Set 3 | butaritari
Processing Record 42 of Set 3 | belushya guba
City not found. Skipping ...
-----------------------
Data Retrieval Complete
-----------------------
Processing Record 43 of Set 3 | kizukuri
Processing Record 44 of Set 3 | salalah
Processing Record 45 of Set 3 | mitu
Processing Record 46 of Set 3 | attawapiskat
City not found. Skipping ...
-----------------------
Data Retrieval Complete
-----------------------
Processing Record 47 of Set 3 | batemans bay
Processing Record 48 of Set 3 | waingapu
Processing Record 49 of Set 3 | tumannyy
City not found. Skipping ...
-----------------------
Data Retrieval Complete
-----------------------
Processing Record 0 of Set 4 | sorland
Processing Record 1 of Set 4 | havre-saint-pierre
Processing Record 2 of Set 4 | wanning
Processing Record 3 of Set 4 | cayenne
Processing Record 4 of Set 4 | henties bay
Processing Record 5 of Set 4 | sur
Processing Record 6 of Set 4 | guanare
Processing Record 7 of Set 4 | narsaq
Processing Record 8 of Set 4 | new norfolk
Processing Record 9 of Set 4 | samarai
Processing Record 10 of Set 4 | gat
Processing Record 11 of Set 4 | naryan-mar
Processing Record 12 of Set 4 | musoma
Processing Record 13 of Set 4 | sinnamary
Processing Record 14 of Set 4 | victoria
Processing Record 15 of Set 4 | beringovskiy
Processing Record 16 of Set 4 | bucyrus
Processing Record 17 of Set 4 | college
Processing Record 18 of Set 4 | busselton
Processing Record 19 of Set 4 | haines junction
Processing Record 20 of Set 4 | rock springs
Processing Record 21 of Set 4 | port lincoln
Processing Record 22 of Set 4 | roma
Processing Record 23 of Set 4 | kenora
Processing Record 24 of Set 4 | evensk
Processing Record 25 of Set 4 | guiratinga
Processing Record 26 of Set 4 | hasaki
Processing Record 27 of Set 4 | soavinandriana
Processing Record 28 of Set 4 | khandyga
Processing Record 29 of Set 4 | texas city
Processing Record 30 of Set 4 | port macquarie
Processing Record 31 of Set 4 | bargal
City not found. Skipping ...
-----------------------
Data Retrieval Complete
-----------------------
Processing Record 32 of Set 4 | vila franca do campo
Processing Record 33 of Set 4 | baherden
Processing Record 34 of Set 4 | kracheh
City not found. Skipping ...
-----------------------
Data Retrieval Complete
-----------------------
Processing Record 35 of Set 4 | jinka
Processing Record 36 of Set 4 | vanimo
Processing Record 37 of Set 4 | severo-kurilsk
Processing Record 38 of Set 4 | billings
Processing Record 39 of Set 4 | kahului
Processing Record 40 of Set 4 | yatou
Processing Record 41 of Set 4 | abu jubayhah
City not found. Skipping ...
-----------------------
Data Retrieval Complete
-----------------------
Processing Record 42 of Set 4 | qaanaaq
Processing Record 43 of Set 4 | sorvag
City not found. Skipping ...
-----------------------
Data Retrieval Complete
-----------------------
Processing Record 44 of Set 4 | sentyabrskiy
City not found. Skipping ...
-----------------------
Data Retrieval Complete
-----------------------
Processing Record 45 of Set 4 | garissa
Processing Record 46 of Set 4 | bambanglipuro
Processing Record 47 of Set 4 | vestmanna
Processing Record 48 of Set 4 | sangar
Processing Record 49 of Set 4 | constitucion
Processing Record 0 of Set 5 | kruisfontein
Processing Record 1 of Set 5 | nantucket
Processing Record 2 of Set 5 | beyneu
Processing Record 3 of Set 5 | brigantine
Processing Record 4 of Set 5 | zwedru
Processing Record 5 of Set 5 | airai
Processing Record 6 of Set 5 | carutapera
Processing Record 7 of Set 5 | bathsheba
Processing Record 8 of Set 5 | mao
Processing Record 9 of Set 5 | ostrovnoy
Processing Record 10 of Set 5 | palabuhanratu
City not found. Skipping ...
-----------------------
Data Retrieval Complete
-----------------------
Processing Record 11 of Set 5 | baghdad
Processing Record 12 of Set 5 | muravlenko
Processing Record 13 of Set 5 | lompoc
Processing Record 14 of Set 5 | gra liyia
Processing Record 15 of Set 5 | yerbogachen
Processing Record 16 of Set 5 | shimoda
Processing Record 17 of Set 5 | bang saphan
Processing Record 18 of Set 5 | burica
City not found. Skipping ...
-----------------------
Data Retrieval Complete
-----------------------
Processing Record 19 of Set 5 | derzhavinsk
Processing Record 20 of Set 5 | mwense
Processing Record 21 of Set 5 | mehamn
Processing Record 22 of Set 5 | kununurra
Processing Record 23 of Set 5 | raudeberg
Processing Record 24 of Set 5 | rochegda
Processing Record 25 of Set 5 | nguiu
City not found. Skipping ...
-----------------------
Data Retrieval Complete
-----------------------
Processing Record 26 of Set 5 | palmer
Processing Record 27 of Set 5 | luderitz
Processing Record 28 of Set 5 | lianran
Processing Record 29 of Set 5 | tsihombe
City not found. Skipping ...
-----------------------
Data Retrieval Complete
-----------------------
Processing Record 30 of Set 5 | caravelas
Processing Record 31 of Set 5 | acapulco
Processing Record 32 of Set 5 | port shepstone
Processing Record 33 of Set 5 | dingle
Processing Record 34 of Set 5 | nizwa
Processing Record 35 of Set 5 | torbay
Processing Record 36 of Set 5 | tautira
Processing Record 37 of Set 5 | kavaratti
Processing Record 38 of Set 5 | songea
Processing Record 39 of Set 5 | auchi
Processing Record 40 of Set 5 | port blair
Processing Record 41 of Set 5 | klaksvik
Processing Record 42 of Set 5 | hilo
Processing Record 43 of Set 5 | marawi
Processing Record 44 of Set 5 | lasa
Processing Record 45 of Set 5 | beziers
Processing Record 46 of Set 5 | umm lajj
Processing Record 47 of Set 5 | iquitos
Processing Record 48 of Set 5 | pringsewu
Processing Record 49 of Set 5 | kamskiye polyany
Processing Record 0 of Set 6 | marsaxlokk
Processing Record 1 of Set 6 | saint george
Processing Record 2 of Set 6 | orsha
Processing Record 3 of Set 6 | seymchan
Processing Record 4 of Set 6 | husavik
Processing Record 5 of Set 6 | rush
Processing Record 6 of Set 6 | saiki
Processing Record 7 of Set 6 | babu
Processing Record 8 of Set 6 | vestmannaeyjar
Processing Record 9 of Set 6 | puerto ayacucho
Processing Record 10 of Set 6 | saquena
Processing Record 11 of Set 6 | kandrian
Processing Record 12 of Set 6 | kaputa
Processing Record 13 of Set 6 | soyo
Processing Record 14 of Set 6 | duz
City not found. Skipping ...
-----------------------
Data Retrieval Complete
-----------------------
Processing Record 15 of Set 6 | sao jose da coroa grande
Processing Record 16 of Set 6 | yazman
Processing Record 17 of Set 6 | puerto escondido
Processing Record 18 of Set 6 | cabedelo
Processing Record 19 of Set 6 | dwarka
Processing Record 20 of Set 6 | coihaique
Processing Record 21 of Set 6 | nizhneyansk
City not found. Skipping ...
-----------------------
Data Retrieval Complete
-----------------------
Processing Record 22 of Set 6 | san juan
Processing Record 23 of Set 6 | aksu
Processing Record 24 of Set 6 | motygino
Processing Record 25 of Set 6 | westport
Processing Record 26 of Set 6 | isla mujeres
Processing Record 27 of Set 6 | prosvet
Processing Record 28 of Set 6 | amahai
Processing Record 29 of Set 6 | verkhnevilyuysk
Processing Record 30 of Set 6 | danville
Processing Record 31 of Set 6 | paamiut
Processing Record 32 of Set 6 | mys shmidta
City not found. Skipping ...
-----------------------
Data Retrieval Complete
-----------------------
Processing Record 33 of Set 6 | ekhabi
Processing Record 34 of Set 6 | buala
Processing Record 35 of Set 6 | longyearbyen
Processing Record 36 of Set 6 | meghri
Processing Record 37 of Set 6 | faanui
Processing Record 38 of Set 6 | ilulissat
Processing Record 39 of Set 6 | mahebourg
Processing Record 40 of Set 6 | banatsko novo selo
Processing Record 41 of Set 6 | cockburn town
Processing Record 42 of Set 6 | biloela
Processing Record 43 of Set 6 | linjiang
Processing Record 44 of Set 6 | chamonix-mont-blanc
Processing Record 45 of Set 6 | pacifica
Processing Record 46 of Set 6 | grande prairie
Processing Record 47 of Set 6 | malanje
Processing Record 48 of Set 6 | srednekolymsk
Processing Record 49 of Set 6 | saldanha
Processing Record 0 of Set 7 | tawkar
City not found. Skipping ...
-----------------------
Data Retrieval Complete
-----------------------
Processing Record 1 of Set 7 | jilmah
City not found. Skipping ...
-----------------------
Data Retrieval Complete
-----------------------
Processing Record 2 of Set 7 | elko
Processing Record 3 of Set 7 | ballina
Processing Record 4 of Set 7 | byron bay
Processing Record 5 of Set 7 | ust-ishim
Processing Record 6 of Set 7 | paoua
Processing Record 7 of Set 7 | ponta do sol
Processing Record 8 of Set 7 | namatanai
Processing Record 9 of Set 7 | moyale
Processing Record 10 of Set 7 | el astillero
Processing Record 11 of Set 7 | aviles
Processing Record 12 of Set 7 | rundu
Processing Record 13 of Set 7 | broken hill
Processing Record 14 of Set 7 | tooele
Processing Record 15 of Set 7 | launceston
Processing Record 16 of Set 7 | grindavik
Processing Record 17 of Set 7 | cap-aux-meules
Processing Record 18 of Set 7 | miranda de ebro
Processing Record 19 of Set 7 | burnie
Processing Record 20 of Set 7 | tokur
Processing Record 21 of Set 7 | jarjis
City not found. Skipping ...
-----------------------
Data Retrieval Complete
-----------------------
Processing Record 22 of Set 7 | chihuahua
Processing Record 23 of Set 7 | camana
Processing Record 24 of Set 7 | east islip
Processing Record 25 of Set 7 | mersing
Processing Record 26 of Set 7 | eregli
Processing Record 27 of Set 7 | koslan
Processing Record 28 of Set 7 | palwal
Processing Record 29 of Set 7 | pisco
Processing Record 30 of Set 7 | richards bay
Processing Record 31 of Set 7 | nechi
Processing Record 32 of Set 7 | petropavlovsk-kamchatskiy
Processing Record 33 of Set 7 | scarborough
Processing Record 34 of Set 7 | porbandar
Processing Record 35 of Set 7 | marzuq
Processing Record 36 of Set 7 | luena
Processing Record 37 of Set 7 | beloha
Processing Record 38 of Set 7 | teocaltiche
Processing Record 39 of Set 7 | souillac
Processing Record 40 of Set 7 | kampot
Processing Record 41 of Set 7 | fare
Processing Record 42 of Set 7 | port antonio
Processing Record 43 of Set 7 | tolbazy
Processing Record 44 of Set 7 | leshan
Processing Record 45 of Set 7 | mount darwin
Processing Record 46 of Set 7 | salinopolis
Processing Record 47 of Set 7 | meulaboh
Processing Record 48 of Set 7 | ginir
Processing Record 49 of Set 7 | cherskiy
Processing Record 0 of Set 8 | korla
Processing Record 1 of Set 8 | alice springs
Processing Record 2 of Set 8 | kushmurun
Processing Record 3 of Set 8 | avera
Processing Record 4 of Set 8 | nicoya
Processing Record 5 of Set 8 | lichinga
Processing Record 6 of Set 8 | olinda
Processing Record 7 of Set 8 | port-gentil
Processing Record 8 of Set 8 | hearst
Processing Record 9 of Set 8 | hranice
Processing Record 10 of Set 8 | georgetown
Processing Record 11 of Set 8 | melfort
Processing Record 12 of Set 8 | yunjinghong
City not found. Skipping ...
-----------------------
Data Retrieval Complete
-----------------------
Processing Record 13 of Set 8 | bubaque
Processing Record 14 of Set 8 | douentza
Processing Record 15 of Set 8 | port hardy
Processing Record 16 of Set 8 | geraldton
Processing Record 17 of Set 8 | luanda
Processing Record 18 of Set 8 | mount isa
Processing Record 19 of Set 8 | mabaruma
Processing Record 20 of Set 8 | lisburn
Processing Record 21 of Set 8 | chengde
Processing Record 22 of Set 8 | horta
Processing Record 23 of Set 8 | norman wells
Processing Record 24 of Set 8 | hamilton
Processing Record 25 of Set 8 | touros
Processing Record 26 of Set 8 | cheuskiny
City not found. Skipping ...
-----------------------
Data Retrieval Complete
-----------------------
Processing Record 27 of Set 8 | la gaulette
City not found. Skipping ...
-----------------------
Data Retrieval Complete
-----------------------
Processing Record 28 of Set 8 | qostanay
Processing Record 29 of Set 8 | rosetta
Processing Record 30 of Set 8 | hay river
Processing Record 31 of Set 8 | alofi
Processing Record 32 of Set 8 | erenhot
Processing Record 33 of Set 8 | vostok
Processing Record 34 of Set 8 | umm kaddadah
Processing Record 35 of Set 8 | khor
Processing Record 36 of Set 8 | rorvik
Processing Record 37 of Set 8 | dunedin
Processing Record 38 of Set 8 | bakchar
Processing Record 39 of Set 8 | clarence town
Processing Record 40 of Set 8 | katsuura
Processing Record 41 of Set 8 | san patricio
Processing Record 42 of Set 8 | houston
Processing Record 43 of Set 8 | klyavlino
Processing Record 44 of Set 8 | negele
City not found. Skipping ...
-----------------------
Data Retrieval Complete
-----------------------
Processing Record 45 of Set 8 | dukat
Processing Record 46 of Set 8 | barbar
City not found. Skipping ...
-----------------------
Data Retrieval Complete
-----------------------
Processing Record 47 of Set 8 | andenes
Processing Record 48 of Set 8 | rajgarh
Processing Record 49 of Set 8 | nemuro
Processing Record 0 of Set 9 | liepaja
Processing Record 1 of Set 9 | mafinga
Processing Record 2 of Set 9 | gornozavodsk
Processing Record 3 of Set 9 | hualmay
Processing Record 4 of Set 9 | hit
Processing Record 5 of Set 9 | kalmunai
Processing Record 6 of Set 9 | cherdyn
Processing Record 7 of Set 9 | dzaoudzi
Processing Record 8 of Set 9 | mogadishu
Processing Record 9 of Set 9 | severobaykalsk
Processing Record 10 of Set 9 | am timan
Processing Record 11 of Set 9 | concordia
Processing Record 12 of Set 9 | redcar
Processing Record 13 of Set 9 | altamont
Processing Record 14 of Set 9 | praia da vitoria
Processing Record 15 of Set 9 | kismayo
Processing Record 16 of Set 9 | cantagallo
Processing Record 17 of Set 9 | khani
Processing Record 18 of Set 9 | kloulklubed
Processing Record 19 of Set 9 | gorontalo
Processing Record 20 of Set 9 | barao de melgaco
Processing Record 21 of Set 9 | riviere-au-renard
Processing Record 22 of Set 9 | honiara
Processing Record 23 of Set 9 | laguna
Processing Record 24 of Set 9 | marsa matruh
Processing Record 25 of Set 9 | mount gambier
Processing Record 26 of Set 9 | awjilah
Processing Record 27 of Set 9 | necochea
Processing Record 28 of Set 9 | abu samrah
Processing Record 29 of Set 9 | mariental
Processing Record 30 of Set 9 | nizhniy kuranakh
Processing Record 31 of Set 9 | woodward
Processing Record 32 of Set 9 | huilong
Processing Record 33 of Set 9 | utiroa
City not found. Skipping ...
-----------------------
Data Retrieval Complete
-----------------------
Processing Record 34 of Set 9 | te anau
Processing Record 35 of Set 9 | rosehearty
Processing Record 36 of Set 9 | chapais
Processing Record 37 of Set 9 | moerai
Processing Record 38 of Set 9 | boueni
Processing Record 39 of Set 9 | gotsu
Processing Record 40 of Set 9 | saint-augustin
Processing Record 41 of Set 9 | parkes
Processing Record 42 of Set 9 | katangli
Processing Record 43 of Set 9 | emmett
Processing Record 44 of Set 9 | beira
Processing Record 45 of Set 9 | leh
Processing Record 46 of Set 9 | rocha
Processing Record 47 of Set 9 | alotau
City not found. Skipping ...
-----------------------
Data Retrieval Complete
-----------------------
Processing Record 48 of Set 9 | fortuna
Processing Record 49 of Set 9 | chokwe
Processing Record 0 of Set 10 | hirara
Processing Record 1 of Set 10 | avon
Processing Record 2 of Set 10 | north bend
Processing Record 3 of Set 10 | revelstoke
Processing Record 4 of Set 10 | adamovka
Processing Record 5 of Set 10 | ngunut
Processing Record 6 of Set 10 | healdsburg
Processing Record 7 of Set 10 | okhotsk
Processing Record 8 of Set 10 | cornwall
Processing Record 9 of Set 10 | mangai
Processing Record 10 of Set 10 | schrobenhausen
Processing Record 11 of Set 10 | muisne
Processing Record 12 of Set 10 | coquimbo
Processing Record 13 of Set 10 | carndonagh
Processing Record 14 of Set 10 | ciudad dario
Processing Record 15 of Set 10 | tabou
Processing Record 16 of Set 10 | lapeer
Processing Record 17 of Set 10 | kawalu
Processing Record 18 of Set 10 | mwinilunga
Processing Record 19 of Set 10 | amderma
City not found. Skipping ...
-----------------------
Data Retrieval Complete
-----------------------
Processing Record 20 of Set 10 | roebourne
Processing Record 21 of Set 10 | deputatskiy
Processing Record 22 of Set 10 | tucuman
Processing Record 23 of Set 10 | jinchengjiang
City not found. Skipping ...
-----------------------
Data Retrieval Complete
-----------------------
Processing Record 24 of Set 10 | ambovombe
Processing Record 25 of Set 10 | iqaluit
Processing Record 26 of Set 10 | mnogovershinnyy
Processing Record 27 of Set 10 | tezu
Processing Record 28 of Set 10 | nhulunbuy
Processing Record 29 of Set 10 | jais
Processing Record 30 of Set 10 | andevoranto
City not found. Skipping ...
-----------------------
Data Retrieval Complete
-----------------------
Processing Record 31 of Set 10 | ocamonte
Processing Record 32 of Set 10 | vila velha
Processing Record 33 of Set 10 | okato
Processing Record 34 of Set 10 | juneau
Processing Record 35 of Set 10 | mendoza
Processing Record 36 of Set 10 | trairi
Processing Record 37 of Set 10 | oistins
Processing Record 38 of Set 10 | saint-joseph
Processing Record 39 of Set 10 | margate
Processing Record 40 of Set 10 | sakakah
Processing Record 41 of Set 10 | havelock
Processing Record 42 of Set 10 | theunissen
Processing Record 43 of Set 10 | ajdabiya
Processing Record 44 of Set 10 | boende
Processing Record 45 of Set 10 | kuche
City not found. Skipping ...
-----------------------
Data Retrieval Complete
-----------------------
Processing Record 46 of Set 10 | nuuk
Processing Record 47 of Set 10 | peleduy
Processing Record 48 of Set 10 | nioro
Processing Record 49 of Set 10 | northam
Processing Record 0 of Set 11 | nuevitas
Processing Record 1 of Set 11 | salima
Processing Record 2 of Set 11 | lalin
Processing Record 3 of Set 11 | grand river south east
City not found. Skipping ...
-----------------------
Data Retrieval Complete
-----------------------
Processing Record 4 of Set 11 | scottsburgh
City not found. Skipping ...
-----------------------
Data Retrieval Complete
-----------------------
Processing Record 5 of Set 11 | tondon
Processing Record 6 of Set 11 | anadyr
Processing Record 7 of Set 11 | soyaniquilpan
Processing Record 8 of Set 11 | ewa beach
Processing Record 9 of Set 11 | navahrudak
Processing Record 10 of Set 11 | capanema
Processing Record 11 of Set 11 | ardistan
City not found. Skipping ...
-----------------------
Data Retrieval Complete
-----------------------
Processing Record 12 of Set 11 | el campo
Processing Record 13 of Set 11 | axim
Processing Record 14 of Set 11 | galiwinku
City not found. Skipping ...
-----------------------
Data Retrieval Complete
-----------------------
Processing Record 15 of Set 11 | longyan
Processing Record 16 of Set 11 | chunskiy
Processing Record 17 of Set 11 | taltal
Processing Record 18 of Set 11 | monte cristi
City not found. Skipping ...
-----------------------
Data Retrieval Complete
-----------------------
Processing Record 19 of Set 11 | biltine
Processing Record 20 of Set 11 | aguimes
Processing Record 21 of Set 11 | yar-sale
Processing Record 22 of Set 11 | logan
Processing Record 23 of Set 11 | saquarema
Processing Record 24 of Set 11 | hammerfest
Processing Record 25 of Set 11 | esmeraldas
Processing Record 26 of Set 11 | la palma
Processing Record 27 of Set 11 | atasu
Processing Record 28 of Set 11 | peace river
Processing Record 29 of Set 11 | saint-pierre
Processing Record 30 of Set 11 | batagay
Processing Record 31 of Set 11 | saurimo
Processing Record 32 of Set 11 | kapit
Processing Record 33 of Set 11 | kamenskoye
City not found. Skipping ...
-----------------------
Data Retrieval Complete
-----------------------
Processing Record 34 of Set 11 | guerrero negro
Processing Record 35 of Set 11 | kolpashevo
Processing Record 36 of Set 11 | anar darreh
City not found. Skipping ...
-----------------------
Data Retrieval Complete
-----------------------
Processing Record 37 of Set 11 | bushehr
Processing Record 38 of Set 11 | reinosa
Processing Record 39 of Set 11 | general roca
Processing Record 40 of Set 11 | karachi
Processing Record 41 of Set 11 | kiama
Processing Record 42 of Set 11 | bozhou
Processing Record 43 of Set 11 | berdigestyakh
Processing Record 44 of Set 11 | roald
Processing Record 45 of Set 11 | beaverlodge
Processing Record 46 of Set 11 | belgrade
Processing Record 47 of Set 11 | bilibino
Processing Record 48 of Set 11 | babanusah
City not found. Skipping ...
-----------------------
Data Retrieval Complete
-----------------------
Processing Record 49 of Set 11 | katsiveli
City not found. Skipping ...
-----------------------
Data Retrieval Complete
-----------------------
Processing Record 0 of Set 12 | ilhabela
Processing Record 1 of Set 12 | svetlaya
Processing Record 2 of Set 12 | tsiroanomandidy
Processing Record 3 of Set 12 | namibe
Processing Record 4 of Set 12 | gorno-chuyskiy
City not found. Skipping ...
-----------------------
Data Retrieval Complete
-----------------------
Processing Record 5 of Set 12 | ovalle
Processing Record 6 of Set 12 | san javier
Processing Record 7 of Set 12 | bandar-e anzali
Processing Record 8 of Set 12 | rudnya
Processing Record 9 of Set 12 | chicama
Processing Record 10 of Set 12 | le vauclin
Processing Record 11 of Set 12 | portobelo
Processing Record 12 of Set 12 | gazojak
Processing Record 13 of Set 12 | sechura
Processing Record 14 of Set 12 | surgut
Processing Record 15 of Set 12 | taiobeiras
Processing Record 16 of Set 12 | grand gaube
Processing Record 17 of Set 12 | moville
Processing Record 18 of Set 12 | krynychky
Processing Record 19 of Set 12 | buraydah
Processing Record 20 of Set 12 | geresk
City not found. Skipping ...
-----------------------
Data Retrieval Complete
-----------------------
Processing Record 21 of Set 12 | weinan
Processing Record 22 of Set 12 | basco
Processing Record 23 of Set 12 | angoram
Processing Record 24 of Set 12 | yendi
Processing Record 25 of Set 12 | najran
Processing Record 26 of Set 12 | strezhevoy
Processing Record 27 of Set 12 | kalakamati
Processing Record 28 of Set 12 | prainha
Processing Record 29 of Set 12 | rantepao
Processing Record 30 of Set 12 | san policarpo
Processing Record 31 of Set 12 | kirakira
Processing Record 32 of Set 12 | pirgos
Processing Record 33 of Set 12 | orocue
Processing Record 34 of Set 12 | quelimane
Processing Record 35 of Set 12 | solnechnyy
Processing Record 36 of Set 12 | kuanshan
City not found. Skipping ...
-----------------------
Data Retrieval Complete
-----------------------
Processing Record 37 of Set 12 | makokou
Processing Record 38 of Set 12 | moyobamba
Processing Record 39 of Set 12 | jackson
Convert Raw Data to DataFrame
Export the city data into a .csv.
Display the DataFrame
# Convert array of JSON into Pandas
city_data_df = pd.DataFrame(city_data)


# Extract relevant fields from the data frame
lats = city_data_df["Lat"]
max_temps = city_data_df["Max Temp"]
humidity = city_data_df["Humidity"]
cloudiness = city_data_df["Cloudiness"]
wind_speed = city_data_df["Windspeed"]

city_data_df.to_csv(output_data_file, index_label="City_ID")

city_data_df.count()
City          539
Lat           539
Lng           539
Max Temp      539
Humidity      539
Cloudiness    539
Windspeed     539
Country       539
Date          539
dtype: int64
# Display the city Data Frame
city_data_df.head()
City	Lat	Lng	Max Temp	Humidity	Cloudiness	Windspeed	Country	Date
0	tasiilaq	65.61	-37.64	28.4	79	100	27.51	GL	1580007324
1	bryan	30.67	-96.37	61.0	77	90	4.70	US	1580007478
2	ushuaia	-54.80	-68.30	46.4	75	75	23.04	AR	1580007289
3	noumea	-22.28	166.46	91.4	49	75	14.99	NC	1580006898
4	jamestown	42.10	-79.24	33.8	97	90	6.93	US	1580007205
Plotting the Data
Use proper labeling of the plots using plot titles (including date of analysis) and axes labels.
Save the plotted figures as .pngs.
Latitude vs. Temperature Plot
# Build scatter plot for latitude vs. temperature
plt.scatter(lats,
            max_temps,
           edgecolor="black", linewidth=1, marker="o",
           alpha=0.8, label="Cities")

# Incorporate the other graph properties
plt.title("City Latitude Vs. Max Temperature(%s)" % time.strftime("%x"))
plt.ylabel("Max Temperature (F)")
plt.xlabel("Latitude")
plt.grid(True)

# Save figure
plt.savefig("output_data/Fig1.png")

# Show plot
plt.show()

Latitude vs. Humidity Plot
# Build scatter plot for latitude vs. Humidity
plt.scatter(lats,
            humidity,
           edgecolor="black", linewidth=1, marker="o",
           alpha=0.8, label="Cities")


# Incorporate the other graph properties
plt.title("City Latitude Vs. Humidity(%s)" % time.strftime("%x"))
plt.ylabel("Humidity (%)")
plt.xlabel("Latitude")
plt.grid(True)


# Save figure
plt.savefig("output_data/Fig2.png")

# Show plot
plt.show()

Latitude vs. Cloudiness Plot
# Build scatter plot for latitude vs. Cloudiness
plt.scatter(lats,
            cloudiness,
           edgecolor="black", linewidth=1, marker="o",
           alpha=0.8, label="Cities")


# Incorporate the other graph properties
plt.title("City Latitude Vs. Cloudiness(%s)" % time.strftime("%x"))
plt.ylabel("Cloudiness (%)")
plt.xlabel("Latitude")
plt.grid(True)


# Save figure
plt.savefig("output_data/Fig3.png")

# Show plot
plt.show()

Latitude vs. Wind Speed Plot
# Build scatter plot for latitude vs. Windspeed
plt.scatter(lats,
            wind_speed,
           edgecolor="black", linewidth=1, marker="o",
           alpha=0.8, label="Cities")


# Incorporate the other graph properties
plt.title("City Latitude Vs. Wind Speed(%s)" % time.strftime("%x"))
plt.ylabel("Windspeed mph")
plt.xlabel("Latitude")
plt.grid(True)


# Save figure
plt.savefig("output_data/Fig4.png")

# Show plot
plt.show()

Linear Regression
# OPTIONAL: Create a function to create Linear Regression plots
def plot_linear_regression(x_values,y_values,title,text_coordinates):
    
    # Run regression on Southern Hemisphere
    (slope, intercept, rvalue, pvalue, stderr) = linregress (x_values,y_values)
    regress_values = x_values * slope + intercept
    line_eq = "y = " + str(round(slope,2)) + " x + " + str(round(intercept,2))
    
    # Plot
    plt.scatter(x_values,y_values)
    plt.plot(x_values, regress_values, "r-")
    plt.annotate(line_eq,text_coordinates, fontsize=15, color="red")
    plt.xlabel("Latitude")
    plt.ylabel("Title")
    print(f"The r-squared is: {rvalue}")
    plt.show()
# Create Northern and Southern Hemisphere DataFrames
northern_hemi_df = city_data_df.loc[(city_data_df["Lat"] >= 0)]
southern_hemi_df = city_data_df.loc[(city_data_df["Lat"] <0)]
Northern Hemisphere - Max Temp vs. Latitude Linear Regression
x_values = northern_hemi_df ["Lat"]
y_values = northern_hemi_df ["Max Temp"]
plot_linear_regression(x_values,y_values, 'Max Temp', (6,30))
The r-squared is: -0.8607257968391061

Southern Hemisphere - Max Temp vs. Latitude Linear Regression
x_values = southern_hemi_df ["Lat"]
y_values = southern_hemi_df ["Max Temp"]
plot_linear_regression(x_values,y_values, 'Max Temp', (-30,40))
The r-squared is: 0.3620385435469623

Northern Hemisphere - Humidity (%) vs. Latitude Linear Regression
x_values = northern_hemi_df ["Lat"]
y_values = northern_hemi_df ["Humidity"]
plot_linear_regression(x_values,y_values, 'Humidity', (40,10))
The r-squared is: 0.3678548163514631

Southern Hemisphere - Humidity (%) vs. Latitude Linear Regression
x_values = southern_hemi_df ["Lat"]
y_values = southern_hemi_df ["Humidity"]
plot_linear_regression(x_values,y_values, 'Humidity', (-30,150))
The r-squared is: 0.34117482767679014

Northern Hemisphere - Cloudiness (%) vs. Latitude Linear Regression
x_values = northern_hemi_df ["Lat"]
y_values = northern_hemi_df ["Cloudiness"]
plot_linear_regression(x_values,y_values, 'Cloudiness', (40,10))
The r-squared is: 0.2053880121866752

Southern Hemisphere - Cloudiness (%) vs. Latitude Linear Regression
x_values = southern_hemi_df ["Lat"]
y_values = southern_hemi_df ["Cloudiness"]
plot_linear_regression(x_values,y_values, 'Cloudiness', (-30,30))
The r-squared is: 0.33751263870745396

Northern Hemisphere - Wind Speed (mph) vs. Latitude Linear Regression
x_values = northern_hemi_df ["Lat"]
y_values = northern_hemi_df ["Windspeed"]
plot_linear_regression(x_values,y_values, 'Windspeed', (40,25))
The r-squared is: 0.22564606740944143

Southern Hemisphere - Wind Speed (mph) vs. Latitude Linear Regression
x_values = southern_hemi_df ["Lat"]
y_values = southern_hemi_df ["Windspeed"]
plot_linear_regression(x_values,y_values, 'Windspeed', (-30,30))
The r-squared is: -0.3878311548967781

 
